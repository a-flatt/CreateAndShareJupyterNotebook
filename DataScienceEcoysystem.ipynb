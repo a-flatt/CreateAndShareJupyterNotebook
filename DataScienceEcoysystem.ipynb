{
 "cells": [
  {
   "cell_type": "markdown",
   "id": "af354656-0840-45eb-884a-9e1641af3815",
   "metadata": {
    "tags": []
   },
   "source": [
    "<center>\n",
    "    <img src=\"https://cf-courses-data.s3.us.cloud-object-storage.appdomain.cloud/IBMDeveloperSkillsNetwork-DS0105EN-SkillsNetwork/labs/Module2/images/SN_web_lightmode.png\" width=\"300\" alt=\"cognitiveclass.ai logo\">\n",
    "</center>\n"
   ]
  },
  {
   "cell_type": "markdown",
   "id": "d02d257d-e9c0-457a-910f-0c5b1380829d",
   "metadata": {
    "tags": []
   },
   "source": [
    "#### Add your code below following the instructions given in the course"
   ]
  },
  {
   "cell_type": "markdown",
   "id": "bfb89405-917f-4837-aa4e-5ec01ac6b34c",
   "metadata": {},
   "source": [
    "# Data Science Tools and Ecosystem"
   ]
  },
  {
   "cell_type": "markdown",
   "id": "e2f3cc7c-64b8-439a-8702-9795c676d723",
   "metadata": {},
   "source": [
    "In this notebook, Data Science Tools and Ecoystem are summarized."
   ]
  },
  {
   "cell_type": "markdown",
   "id": "81dea0e9-655d-4e14-878c-7ec433c8997f",
   "metadata": {},
   "source": [
    "Some of the popular languages that Data Scientists use are:\n",
    "* Python\n",
    "* R\n",
    "* Scala"
   ]
  },
  {
   "cell_type": "markdown",
   "id": "1e6f64ed-c2d5-4a5e-94d5-c03c9fe25295",
   "metadata": {},
   "source": [
    "Some of the commonly used libraries used by Data Scientists are:\n",
    "* Pandas\n",
    "* Numpy\n",
    "* Matplotlib"
   ]
  },
  {
   "cell_type": "markdown",
   "id": "3e8c6236-19f3-4910-b7c7-d2de12863b41",
   "metadata": {},
   "source": [
    "| Data Science Tools|\n",
    "-----\n",
    "| Jupyter Notebooks |\n",
    "| RStudio |\n",
    "| Anaconda |"
   ]
  },
  {
   "cell_type": "markdown",
   "id": "19f0937b-7c47-43d0-b2fb-57ac9ca7b93e",
   "metadata": {},
   "source": [
    "### Below are a few examples of evaluating arithmetic expressions in Python:"
   ]
  },
  {
   "cell_type": "code",
   "execution_count": 3,
   "id": "777e447d-ceab-42b7-9fbd-c5bd171434e3",
   "metadata": {},
   "outputs": [
    {
     "data": {
      "text/plain": [
       "17"
      ]
     },
     "execution_count": 3,
     "metadata": {},
     "output_type": "execute_result"
    }
   ],
   "source": [
    "# This is a simple arithmetic expression to multiply then add integers\n",
    "(3*4)+5"
   ]
  },
  {
   "cell_type": "code",
   "execution_count": 4,
   "id": "56c85fb2-8dea-431e-9d0e-1cf99a259f3c",
   "metadata": {},
   "outputs": [
    {
     "data": {
      "text/plain": [
       "3.3333333333333335"
      ]
     },
     "execution_count": 4,
     "metadata": {},
     "output_type": "execute_result"
    }
   ],
   "source": [
    "# This will convert 200 minutes into hours by dividing by 60\n",
    "200 / 60"
   ]
  },
  {
   "cell_type": "markdown",
   "id": "7791abfe-32b2-4e29-a623-cbe889f4f9df",
   "metadata": {},
   "source": [
    "**Objectives:**\n",
    "- List popular languages for data science.\n",
    "- List commonly used libraries by data scientists.\n",
    "- Create a table listing some data science tools"
   ]
  },
  {
   "cell_type": "markdown",
   "id": "7335249c-3d5d-40dd-9fd8-515d0e2182c2",
   "metadata": {},
   "source": [
    "## Author\n",
    "Adam"
   ]
  }
 ],
 "metadata": {
  "kernelspec": {
   "display_name": "Python",
   "language": "python",
   "name": "conda-env-python-py"
  },
  "language_info": {
   "codemirror_mode": {
    "name": "ipython",
    "version": 3
   },
   "file_extension": ".py",
   "mimetype": "text/x-python",
   "name": "python",
   "nbconvert_exporter": "python",
   "pygments_lexer": "ipython3",
   "version": "3.7.12"
  }
 },
 "nbformat": 4,
 "nbformat_minor": 5
}
